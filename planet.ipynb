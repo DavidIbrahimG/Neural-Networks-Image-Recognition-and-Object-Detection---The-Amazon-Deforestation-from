{
 "cells": [
  {
   "cell_type": "markdown",
   "metadata": {},
   "source": [
    "### Libraries"
   ]
  },
  {
   "cell_type": "code",
   "execution_count": 2,
   "metadata": {
    "execution": {
     "iopub.execute_input": "2021-10-18T17:19:04.046693Z",
     "iopub.status.busy": "2021-10-18T17:19:04.046383Z",
     "iopub.status.idle": "2021-10-18T17:19:04.052538Z",
     "shell.execute_reply": "2021-10-18T17:19:04.051531Z",
     "shell.execute_reply.started": "2021-10-18T17:19:04.046665Z"
    }
   },
   "outputs": [],
   "source": [
    "import numpy as np \n",
    "import pandas as pd \n",
    "import matplotlib.pyplot as plt \n",
    "from fastai.vision import *\n",
    "import gc \n"
   ]
  },
  {
   "cell_type": "code",
   "execution_count": 3,
   "metadata": {
    "execution": {
     "iopub.execute_input": "2021-10-18T17:19:07.743574Z",
     "iopub.status.busy": "2021-10-18T17:19:07.743292Z",
     "iopub.status.idle": "2021-10-18T17:19:07.756020Z",
     "shell.execute_reply": "2021-10-18T17:19:07.755067Z",
     "shell.execute_reply.started": "2021-10-18T17:19:07.743521Z"
    }
   },
   "outputs": [],
   "source": [
    "PATH = Path('../input/planets-dataset/planet/planet')\n",
    "Train_PATH = Path('../input/planets-dataset/planet/planet/train-jpg')\n",
    "Test_PATH = Path('../input/planets-dataset/planet/planet/test-jpg') \n",
    "\n",
    "PATH.ls()"
   ]
  },
  {
   "cell_type": "markdown",
   "metadata": {},
   "source": [
    "### Data "
   ]
  },
  {
   "cell_type": "code",
   "execution_count": 4,
   "metadata": {
    "execution": {
     "iopub.execute_input": "2021-10-18T17:19:15.693685Z",
     "iopub.status.busy": "2021-10-18T17:19:15.693091Z",
     "iopub.status.idle": "2021-10-18T17:19:15.776468Z",
     "shell.execute_reply": "2021-10-18T17:19:15.775738Z",
     "shell.execute_reply.started": "2021-10-18T17:19:15.693642Z"
    }
   },
   "outputs": [],
   "source": [
    "TrainData = pd.read_csv(PATH/'train_classes.csv')\n",
    "TestData = pd.read_csv(PATH/'sample_submission.csv')"
   ]
  },
  {
   "cell_type": "code",
   "execution_count": 5,
   "metadata": {
    "execution": {
     "iopub.execute_input": "2021-10-18T17:19:18.976966Z",
     "iopub.status.busy": "2021-10-18T17:19:18.976098Z",
     "iopub.status.idle": "2021-10-18T17:19:18.981320Z",
     "shell.execute_reply": "2021-10-18T17:19:18.980659Z",
     "shell.execute_reply.started": "2021-10-18T17:19:18.976923Z"
    }
   },
   "outputs": [],
   "source": [
    "# Let's have a look at the shape of the datasets\n",
    "\n",
    "\n",
    "print('Train_Data = {}'.format(TrainData.shape))\n",
    "print('Test_Data = {}'.format(TestData.shape))\n",
    "\n"
   ]
  },
  {
   "cell_type": "code",
   "execution_count": 6,
   "metadata": {
    "execution": {
     "iopub.execute_input": "2021-10-18T17:19:21.955937Z",
     "iopub.status.busy": "2021-10-18T17:19:21.955666Z",
     "iopub.status.idle": "2021-10-18T17:19:22.338579Z",
     "shell.execute_reply": "2021-10-18T17:19:22.337717Z",
     "shell.execute_reply.started": "2021-10-18T17:19:21.955906Z"
    }
   },
   "outputs": [],
   "source": [
    "#let's have a look at the image files \n",
    "\n",
    "print('Size of Training files = {}'.format(len(Train_PATH.ls())))\n",
    "print('Size of Test files = {}'.format(len(Test_PATH.ls())))"
   ]
  },
  {
   "cell_type": "code",
   "execution_count": 8,
   "metadata": {
    "execution": {
     "iopub.execute_input": "2021-10-18T17:19:26.606435Z",
     "iopub.status.busy": "2021-10-18T17:19:26.605889Z",
     "iopub.status.idle": "2021-10-18T17:19:26.614476Z",
     "shell.execute_reply": "2021-10-18T17:19:26.613749Z",
     "shell.execute_reply.started": "2021-10-18T17:19:26.606405Z"
    }
   },
   "outputs": [],
   "source": [
    "TrainData.head(10)"
   ]
  },
  {
   "cell_type": "code",
   "execution_count": 9,
   "metadata": {
    "execution": {
     "iopub.execute_input": "2021-10-18T17:19:32.741950Z",
     "iopub.status.busy": "2021-10-18T17:19:32.741685Z",
     "iopub.status.idle": "2021-10-18T17:19:32.758392Z",
     "shell.execute_reply": "2021-10-18T17:19:32.757739Z",
     "shell.execute_reply.started": "2021-10-18T17:19:32.741919Z"
    }
   },
   "outputs": [],
   "source": [
    "TrainData['tags'].value_counts()"
   ]
  },
  {
   "cell_type": "code",
   "execution_count": 10,
   "metadata": {
    "execution": {
     "iopub.execute_input": "2021-10-18T17:19:36.009081Z",
     "iopub.status.busy": "2021-10-18T17:19:36.008461Z",
     "iopub.status.idle": "2021-10-18T17:19:36.029450Z",
     "shell.execute_reply": "2021-10-18T17:19:36.028140Z",
     "shell.execute_reply.started": "2021-10-18T17:19:36.009039Z"
    }
   },
   "outputs": [],
   "source": [
    "TrainData.isnull().sum()"
   ]
  },
  {
   "cell_type": "code",
   "execution_count": 11,
   "metadata": {
    "execution": {
     "iopub.execute_input": "2021-10-18T17:19:39.184442Z",
     "iopub.status.busy": "2021-10-18T17:19:39.183938Z",
     "iopub.status.idle": "2021-10-18T17:19:39.200899Z",
     "shell.execute_reply": "2021-10-18T17:19:39.200137Z",
     "shell.execute_reply.started": "2021-10-18T17:19:39.184404Z"
    }
   },
   "outputs": [],
   "source": [
    "labels = TrainData.groupby('tags')['image_name'].count().reset_index()\n"
   ]
  },
  {
   "cell_type": "code",
   "execution_count": 12,
   "metadata": {
    "execution": {
     "iopub.execute_input": "2021-10-18T17:19:43.004618Z",
     "iopub.status.busy": "2021-10-18T17:19:43.003848Z",
     "iopub.status.idle": "2021-10-18T17:19:43.017721Z",
     "shell.execute_reply": "2021-10-18T17:19:43.017032Z",
     "shell.execute_reply.started": "2021-10-18T17:19:43.004562Z"
    }
   },
   "outputs": [],
   "source": [
    "labels.sort_values('image_name',ascending=False).head()"
   ]
  },
  {
   "cell_type": "code",
   "execution_count": 13,
   "metadata": {
    "execution": {
     "iopub.execute_input": "2021-10-18T17:19:49.400942Z",
     "iopub.status.busy": "2021-10-18T17:19:49.400431Z",
     "iopub.status.idle": "2021-10-18T17:19:49.421480Z",
     "shell.execute_reply": "2021-10-18T17:19:49.420738Z",
     "shell.execute_reply.started": "2021-10-18T17:19:49.400882Z"
    }
   },
   "outputs": [],
   "source": [
    "df_primary = TrainData.loc[TrainData['tags']=='clear primary'].head()\n",
    "df_partly_cloudy = TrainData.loc[TrainData['tags']=='partly_cloudy primary'].head()\n",
    "\n"
   ]
  },
  {
   "cell_type": "code",
   "execution_count": 14,
   "metadata": {
    "execution": {
     "iopub.execute_input": "2021-10-18T17:19:52.605719Z",
     "iopub.status.busy": "2021-10-18T17:19:52.605448Z",
     "iopub.status.idle": "2021-10-18T17:19:52.614487Z",
     "shell.execute_reply": "2021-10-18T17:19:52.613636Z",
     "shell.execute_reply.started": "2021-10-18T17:19:52.605689Z"
    }
   },
   "outputs": [],
   "source": [
    "df_primary"
   ]
  },
  {
   "cell_type": "code",
   "execution_count": 15,
   "metadata": {
    "execution": {
     "iopub.execute_input": "2021-10-18T17:19:56.018270Z",
     "iopub.status.busy": "2021-10-18T17:19:56.017439Z",
     "iopub.status.idle": "2021-10-18T17:19:56.026933Z",
     "shell.execute_reply": "2021-10-18T17:19:56.026045Z",
     "shell.execute_reply.started": "2021-10-18T17:19:56.018217Z"
    }
   },
   "outputs": [],
   "source": [
    "df_partly_cloudy"
   ]
  },
  {
   "cell_type": "code",
   "execution_count": null,
   "metadata": {
    "execution": {
     "iopub.status.busy": "2021-10-18T17:18:56.676798Z",
     "iopub.status.idle": "2021-10-18T17:18:56.677254Z",
     "shell.execute_reply": "2021-10-18T17:18:56.677046Z",
     "shell.execute_reply.started": "2021-10-18T17:18:56.677021Z"
    }
   },
   "outputs": [],
   "source": [
    "pip install fastai==1.0.61"
   ]
  },
  {
   "cell_type": "code",
   "execution_count": 16,
   "metadata": {
    "execution": {
     "iopub.execute_input": "2021-10-18T17:20:01.215070Z",
     "iopub.status.busy": "2021-10-18T17:20:01.214473Z",
     "iopub.status.idle": "2021-10-18T17:20:01.320995Z",
     "shell.execute_reply": "2021-10-18T17:20:01.320332Z",
     "shell.execute_reply.started": "2021-10-18T17:20:01.215030Z"
    }
   },
   "outputs": [],
   "source": [
    "clear_primary = open_image(Train_PATH/'train_2.jpg') \n",
    "\n",
    "clear_primary "
   ]
  },
  {
   "cell_type": "code",
   "execution_count": 17,
   "metadata": {
    "execution": {
     "iopub.execute_input": "2021-10-18T17:20:14.944873Z",
     "iopub.status.busy": "2021-10-18T17:20:14.944588Z",
     "iopub.status.idle": "2021-10-18T17:20:15.010303Z",
     "shell.execute_reply": "2021-10-18T17:20:15.009615Z",
     "shell.execute_reply.started": "2021-10-18T17:20:14.944843Z"
    }
   },
   "outputs": [],
   "source": [
    "partly_cloudy_primary = open_image(Train_PATH/'train_17.jpg')\n",
    "\n",
    "partly_cloudy_primary\n",
    "\n"
   ]
  },
  {
   "cell_type": "markdown",
   "metadata": {},
   "source": [
    "### Model Training"
   ]
  },
  {
   "cell_type": "code",
   "execution_count": 18,
   "metadata": {
    "execution": {
     "iopub.execute_input": "2021-10-18T17:20:25.858528Z",
     "iopub.status.busy": "2021-10-18T17:20:25.857852Z",
     "iopub.status.idle": "2021-10-18T17:20:25.862693Z",
     "shell.execute_reply": "2021-10-18T17:20:25.861807Z",
     "shell.execute_reply.started": "2021-10-18T17:20:25.858479Z"
    }
   },
   "outputs": [],
   "source": [
    "#Define Transformation \n",
    "\n",
    "tfms = get_transforms(flip_vert=True, max_lighting=0.1, max_zoom=1.05, max_warp=0.)"
   ]
  },
  {
   "cell_type": "code",
   "execution_count": 19,
   "metadata": {
    "execution": {
     "iopub.execute_input": "2021-10-18T17:20:30.977678Z",
     "iopub.status.busy": "2021-10-18T17:20:30.977157Z",
     "iopub.status.idle": "2021-10-18T17:20:31.562368Z",
     "shell.execute_reply": "2021-10-18T17:20:31.561627Z",
     "shell.execute_reply.started": "2021-10-18T17:20:30.977622Z"
    }
   },
   "outputs": [],
   "source": [
    "    src = ImageList.from_df(TrainData,path=Train_PATH,cols='image_name',suffix='.jpg').split_by_rand_pct(0.2).label_from_df(cols='tags',label_delim=' ')"
   ]
  },
  {
   "cell_type": "code",
   "execution_count": 20,
   "metadata": {
    "execution": {
     "iopub.execute_input": "2021-10-18T17:20:40.809195Z",
     "iopub.status.busy": "2021-10-18T17:20:40.808388Z",
     "iopub.status.idle": "2021-10-18T17:20:41.853618Z",
     "shell.execute_reply": "2021-10-18T17:20:41.852910Z",
     "shell.execute_reply.started": "2021-10-18T17:20:40.809142Z"
    }
   },
   "outputs": [],
   "source": [
    " data = src.transform(tfms).databunch(bs=64).normalize(imagenet_stats)"
   ]
  },
  {
   "cell_type": "code",
   "execution_count": 24,
   "metadata": {
    "execution": {
     "iopub.execute_input": "2021-10-18T17:22:14.647894Z",
     "iopub.status.busy": "2021-10-18T17:22:14.647611Z",
     "iopub.status.idle": "2021-10-18T17:22:16.121193Z",
     "shell.execute_reply": "2021-10-18T17:22:16.115404Z",
     "shell.execute_reply.started": "2021-10-18T17:22:14.647864Z"
    }
   },
   "outputs": [],
   "source": [
    "data.show_batch(rows=2)"
   ]
  },
  {
   "cell_type": "code",
   "execution_count": 25,
   "metadata": {
    "execution": {
     "iopub.execute_input": "2021-10-18T17:22:22.600869Z",
     "iopub.status.busy": "2021-10-18T17:22:22.600580Z",
     "iopub.status.idle": "2021-10-18T17:22:22.607008Z",
     "shell.execute_reply": "2021-10-18T17:22:22.606181Z",
     "shell.execute_reply.started": "2021-10-18T17:22:22.600840Z"
    }
   },
   "outputs": [],
   "source": [
    "arch = models.resnet50\n"
   ]
  },
  {
   "cell_type": "code",
   "execution_count": 26,
   "metadata": {
    "execution": {
     "iopub.execute_input": "2021-10-18T17:22:30.028662Z",
     "iopub.status.busy": "2021-10-18T17:22:30.027838Z",
     "iopub.status.idle": "2021-10-18T17:22:36.268170Z",
     "shell.execute_reply": "2021-10-18T17:22:36.267350Z",
     "shell.execute_reply.started": "2021-10-18T17:22:30.028617Z"
    }
   },
   "outputs": [],
   "source": [
    "acc = partial(accuracy_thresh, thresh=0.2)\n",
    "f_score = partial(fbeta, thresh=0.2)\n",
    "learn = cnn_learner(data,arch,metrics=[acc, f_score],model_dir='/kaggle/working')"
   ]
  },
  {
   "cell_type": "code",
   "execution_count": 27,
   "metadata": {
    "execution": {
     "iopub.execute_input": "2021-10-18T17:22:48.881171Z",
     "iopub.status.busy": "2021-10-18T17:22:48.880533Z",
     "iopub.status.idle": "2021-10-18T17:23:52.785290Z",
     "shell.execute_reply": "2021-10-18T17:23:52.784501Z",
     "shell.execute_reply.started": "2021-10-18T17:22:48.881128Z"
    }
   },
   "outputs": [],
   "source": [
    "#use LR finder to get a good  a learning rate \n",
    "\n",
    "learn.lr_find()"
   ]
  },
  {
   "cell_type": "code",
   "execution_count": 28,
   "metadata": {
    "execution": {
     "iopub.execute_input": "2021-10-18T17:24:41.559502Z",
     "iopub.status.busy": "2021-10-18T17:24:41.558713Z",
     "iopub.status.idle": "2021-10-18T17:24:42.071807Z",
     "shell.execute_reply": "2021-10-18T17:24:42.071090Z",
     "shell.execute_reply.started": "2021-10-18T17:24:41.559459Z"
    }
   },
   "outputs": [],
   "source": [
    "learn.recorder.plot()"
   ]
  },
  {
   "cell_type": "code",
   "execution_count": 29,
   "metadata": {
    "execution": {
     "iopub.execute_input": "2021-10-18T17:25:12.859924Z",
     "iopub.status.busy": "2021-10-18T17:25:12.859670Z",
     "iopub.status.idle": "2021-10-18T17:25:12.863736Z",
     "shell.execute_reply": "2021-10-18T17:25:12.863086Z",
     "shell.execute_reply.started": "2021-10-18T17:25:12.859897Z"
    }
   },
   "outputs": [],
   "source": [
    "# fit the head of the network \n",
    "\n",
    "lr = 1e-2"
   ]
  },
  {
   "cell_type": "code",
   "execution_count": 32,
   "metadata": {
    "execution": {
     "iopub.execute_input": "2021-10-18T17:26:15.581538Z",
     "iopub.status.busy": "2021-10-18T17:26:15.580882Z",
     "iopub.status.idle": "2021-10-18T18:04:14.718963Z",
     "shell.execute_reply": "2021-10-18T18:04:14.718238Z",
     "shell.execute_reply.started": "2021-10-18T17:26:15.581494Z"
    }
   },
   "outputs": [],
   "source": [
    "learn.fit_one_cycle(8, slice(lr))"
   ]
  },
  {
   "cell_type": "code",
   "execution_count": 33,
   "metadata": {
    "execution": {
     "iopub.execute_input": "2021-10-18T18:05:22.866370Z",
     "iopub.status.busy": "2021-10-18T18:05:22.866093Z",
     "iopub.status.idle": "2021-10-18T18:05:23.086823Z",
     "shell.execute_reply": "2021-10-18T18:05:23.085906Z",
     "shell.execute_reply.started": "2021-10-18T18:05:22.866338Z"
    }
   },
   "outputs": [],
   "source": [
    "learn.save('Stage1-rs50-256')"
   ]
  },
  {
   "cell_type": "code",
   "execution_count": 34,
   "metadata": {
    "execution": {
     "iopub.execute_input": "2021-10-18T18:05:42.112625Z",
     "iopub.status.busy": "2021-10-18T18:05:42.111932Z",
     "iopub.status.idle": "2021-10-18T18:05:42.118838Z",
     "shell.execute_reply": "2021-10-18T18:05:42.118030Z",
     "shell.execute_reply.started": "2021-10-18T18:05:42.112587Z"
    }
   },
   "outputs": [],
   "source": [
    "#fine tune the model \n",
    "\n",
    "learn.unfreeze()"
   ]
  },
  {
   "cell_type": "code",
   "execution_count": 38,
   "metadata": {
    "execution": {
     "iopub.execute_input": "2021-10-18T18:06:18.359926Z",
     "iopub.status.busy": "2021-10-18T18:06:18.359518Z",
     "iopub.status.idle": "2021-10-18T18:07:06.824086Z",
     "shell.execute_reply": "2021-10-18T18:07:06.823407Z",
     "shell.execute_reply.started": "2021-10-18T18:06:18.359880Z"
    }
   },
   "outputs": [],
   "source": [
    "learn.lr_find()\n",
    "learn.recorder.plot()"
   ]
  },
  {
   "cell_type": "code",
   "execution_count": null,
   "metadata": {
    "execution": {
     "iopub.execute_input": "2021-10-18T18:09:12.317089Z",
     "iopub.status.busy": "2021-10-18T18:09:12.316226Z"
    }
   },
   "outputs": [],
   "source": [
    "learn.fit_one_cycle(8,slice(1e-5,lr/5))"
   ]
  },
  {
   "cell_type": "code",
   "execution_count": null,
   "metadata": {
    "execution": {
     "iopub.status.busy": "2021-10-18T17:18:56.710616Z",
     "iopub.status.idle": "2021-10-18T17:18:56.711311Z",
     "shell.execute_reply": "2021-10-18T17:18:56.711081Z",
     "shell.execute_reply.started": "2021-10-18T17:18:56.711054Z"
    }
   },
   "outputs": [],
   "source": [
    "learn.save('Stage2-rs50-256')\n"
   ]
  },
  {
   "cell_type": "code",
   "execution_count": null,
   "metadata": {
    "execution": {
     "iopub.status.busy": "2021-10-18T17:18:56.713029Z",
     "iopub.status.idle": "2021-10-18T17:18:56.713467Z",
     "shell.execute_reply": "2021-10-18T17:18:56.713255Z",
     "shell.execute_reply.started": "2021-10-18T17:18:56.713232Z"
    }
   },
   "outputs": [],
   "source": [
    "learn.export('/kaggle/working/export.pkl')"
   ]
  },
  {
   "cell_type": "code",
   "execution_count": null,
   "metadata": {
    "execution": {
     "iopub.status.busy": "2021-10-18T17:18:56.715261Z",
     "iopub.status.idle": "2021-10-18T17:18:56.715722Z",
     "shell.execute_reply": "2021-10-18T17:18:56.715486Z",
     "shell.execute_reply.started": "2021-10-18T17:18:56.715463Z"
    }
   },
   "outputs": [],
   "source": [
    "test = ImageList.from_folder(PATH/'test-jpg').add(ImageList.from_folder('../input/planets-dataset/test-jpg-additional/test-jpg-additional'))\n",
    "len(test)"
   ]
  },
  {
   "cell_type": "code",
   "execution_count": null,
   "metadata": {
    "execution": {
     "iopub.status.busy": "2021-10-18T17:18:56.717360Z",
     "iopub.status.idle": "2021-10-18T17:18:56.717817Z",
     "shell.execute_reply": "2021-10-18T17:18:56.717596Z",
     "shell.execute_reply.started": "2021-10-18T17:18:56.717573Z"
    }
   },
   "outputs": [],
   "source": [
    "learn = load_learner(Path('/kaggle/working'), test=test)\n",
    "preds, _ = learn.get_preds(ds_type=DatasetType.Test)"
   ]
  },
  {
   "cell_type": "code",
   "execution_count": null,
   "metadata": {
    "execution": {
     "iopub.status.busy": "2021-10-18T17:18:56.719380Z",
     "iopub.status.idle": "2021-10-18T17:18:56.719831Z",
     "shell.execute_reply": "2021-10-18T17:18:56.719612Z",
     "shell.execute_reply.started": "2021-10-18T17:18:56.719589Z"
    }
   },
   "outputs": [],
   "source": [
    "thresh = 0.2\n",
    "labelled_preds = [' '.join([learn.data.classes[i] for i,p in enumerate(pred) if p > thresh]) for pred in preds]"
   ]
  },
  {
   "cell_type": "code",
   "execution_count": null,
   "metadata": {
    "execution": {
     "iopub.status.busy": "2021-10-18T17:18:56.721456Z",
     "iopub.status.idle": "2021-10-18T17:18:56.721910Z",
     "shell.execute_reply": "2021-10-18T17:18:56.721699Z",
     "shell.execute_reply.started": "2021-10-18T17:18:56.721676Z"
    }
   },
   "outputs": [],
   "source": [
    "fnames = [f.name[:-4] for f in learn.data.test_ds.items]"
   ]
  },
  {
   "cell_type": "code",
   "execution_count": null,
   "metadata": {
    "execution": {
     "iopub.status.busy": "2021-10-18T17:18:56.723200Z",
     "iopub.status.idle": "2021-10-18T17:18:56.724237Z",
     "shell.execute_reply": "2021-10-18T17:18:56.723985Z",
     "shell.execute_reply.started": "2021-10-18T17:18:56.723957Z"
    }
   },
   "outputs": [],
   "source": [
    "preds_df = pd.DataFrame({'image_name':fnames, 'tags':labelled_preds}, columns=['image_name', 'tags'])"
   ]
  },
  {
   "cell_type": "code",
   "execution_count": null,
   "metadata": {
    "execution": {
     "iopub.status.busy": "2021-10-18T17:18:56.725705Z",
     "iopub.status.idle": "2021-10-18T17:18:56.726147Z",
     "shell.execute_reply": "2021-10-18T17:18:56.725920Z",
     "shell.execute_reply.started": "2021-10-18T17:18:56.725897Z"
    }
   },
   "outputs": [],
   "source": [
    "preds_df.to_csv('/kaggle/working/submission.csv', index=False)"
   ]
  },
  {
   "cell_type": "code",
   "execution_count": null,
   "metadata": {
    "execution": {
     "iopub.status.busy": "2021-10-18T17:18:56.727789Z",
     "iopub.status.idle": "2021-10-18T17:18:56.728254Z",
     "shell.execute_reply": "2021-10-18T17:18:56.728041Z",
     "shell.execute_reply.started": "2021-10-18T17:18:56.728017Z"
    }
   },
   "outputs": [],
   "source": [
    "preds_df.sort_values('image_name', ascending = True).head(10)\n"
   ]
  },
  {
   "cell_type": "code",
   "execution_count": null,
   "metadata": {
    "execution": {
     "iopub.status.busy": "2021-10-18T17:18:56.729847Z",
     "iopub.status.idle": "2021-10-18T17:18:56.730308Z",
     "shell.execute_reply": "2021-10-18T17:18:56.730091Z",
     "shell.execute_reply.started": "2021-10-18T17:18:56.730067Z"
    }
   },
   "outputs": [],
   "source": [
    "preds_df.shape"
   ]
  }
 ],
 "metadata": {
  "kernelspec": {
   "display_name": "Python 3",
   "language": "python",
   "name": "python3"
  },
  "language_info": {
   "codemirror_mode": {
    "name": "ipython",
    "version": 3
   },
   "file_extension": ".py",
   "mimetype": "text/x-python",
   "name": "python",
   "nbconvert_exporter": "python",
   "pygments_lexer": "ipython3",
   "version": "3.7.6"
  }
 },
 "nbformat": 4,
 "nbformat_minor": 4
}
